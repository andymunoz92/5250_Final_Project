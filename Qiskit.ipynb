# Quantum vs Classical Shortest Path Algorithms: Performance Analysis
# 
# This notebook compares the performance of classical Dijkstra's algorithm against quantum approaches
# (Quantum Walk and QAOA) for solving the shortest path problem.

# Install required packages
!pip install qiskit==1.0.2 qiskit-aer matplotlib networkx scipy
print("Packages installed successfully")

# Check versions to confirm
import qiskit
print(f"Qiskit version: {qiskit.__version__}")

# Set warnings to ignore deprecation notices that might clutter output
import warnings
warnings.filterwarnings('ignore', category=DeprecationWarning)

# Import necessary libraries
import time
import numpy as np
import networkx as nx
import matplotlib.pyplot as plt
from qiskit import QuantumCircuit, transpile
from qiskit.providers.jobstatus import JobStatus
from qiskit_aer import AerSimulator
from qiskit.visualization import plot_histogram
from scipy.optimize import curve_fit

# --------------------------------------------------------------------------
# Core algorithm implementations
# --------------------------------------------------------------------------

# Find shortest path using classical Dijkstra's algorithm
def classical_shortest_path(G, source, target):
    path = nx.dijkstra_path(G, source, target)
    length = nx.dijkstra_path_length(G, source, target)
    return path, length

# Create a graph for our shortest path problem
def create_graph():
    G = nx.Graph()
    
    # Add nodes
    for i in range(5):
        G.add_node(i)
    
    # Add edges with weights
    edges = [(0, 1, 2), (0, 2, 4), (1, 2, 1), 
             (1, 3, 5), (2, 3, 2), (2, 4, 3), (3, 4, 1)]
    for u, v, w in edges:
        G.add_edge(u, v, weight=w)
    
    return G

# Create a quantum circuit for the Quantum Walk algorithm
def create_quantum_walk_circuit(G, steps=3):
    # Number of nodes in the graph
    n_nodes = G.number_of_nodes()
    
    # We need log2(n_nodes) qubits to represent the nodes
    n_qubits = int(np.ceil(np.log2(n_nodes)))
    n_qubits_total = 2 * n_qubits  # Position and coin registers
    
    # Create quantum circuit
    qc = QuantumCircuit(n_qubits_total, n_qubits)
    
    # Initialize the position register to the superposition of all nodes
    for i in range(n_qubits):
        qc.h(i)
    
    # Initialize the coin register
    for i in range(n_qubits, n_qubits_total):
        qc.h(i)
    
    # Implement quantum walk steps
    for _ in range(steps):
        # Coin operator (Hadamard on coin qubits)
        for i in range(n_qubits, n_qubits_total):
            qc.h(i)
        
        # Shift operator (controlled by coin qubits)
        # This is a simplified version that doesn't fully capture the graph structure
        for i in range(n_qubits):
            qc.cx(n_qubits, i)
    
    # Measure the position register
    qc.measure(range(n_qubits), range(n_qubits))
    
    return qc

def create_simplified_qaoa_circuit(G):
    """Create a QAOA circuit for the given graph"""
    # Create adjacency matrix from graph
    adj_matrix = nx.to_numpy_array(G)
    n = len(adj_matrix)
    
    # Create quantum circuit
    qc = QuantumCircuit(n, n)
    
    # Prepare initial state (all qubits in superposition)
    for i in range(n):
        qc.h(i)
    
    # Simplified QAOA circuit with one round
    # Problem Hamiltonian phase separation
    for i in range(n):
        qc.rz(0.1, i)  # Parameter would be optimized
    
    for i in range(n):
        for j in range(i+1, n):
            if adj_matrix[i,j] > 0:
                qc.cx(i, j)
                qc.rz(0.1 * adj_matrix[i,j], j)  # Parameter would be optimized
                qc.cx(i, j)
    
    # Mixing Hamiltonian
    for i in range(n):
        qc.rx(0.1, i)  # Parameter would be optimized
    
    # Measurement
    qc.measure(range(n), range(n))
    
    return qc

# --------------------------------------------------------------------------
# Detailed Performance Analysis
# --------------------------------------------------------------------------

def simulate_with_detailed_metrics(G, source, target):
    """Run a detailed simulation for a specific graph and report metrics"""
    # Create simulator - updated for Qiskit 1.0
    simulator = AerSimulator()
    shots = 1024
    
    print(f"Running detailed performance analysis for graph with {G.number_of_nodes()} nodes")
    print("="*50)
    
    # Classical Performance
    start_time = time.time()
    path, length = classical_shortest_path(G, source, target)
    classical_time = time.time() - start_time
    
    print(f"CLASSICAL DIJKSTRA'S ALGORITHM:")
    print(f"- Runtime: {classical_time:.6f} seconds")
    print(f"- Path found: {path}")
    print(f"- Path length: {length}")
    print(f"- Operations estimate: ~{G.number_of_nodes() * np.log2(G.number_of_nodes()):.1f}")
    print(f"- Memory usage: ~{G.number_of_nodes()} units")
    print("-"*50)
    
    # Quantum Walk Performance
    start_time = time.time()
    qw_circuit = create_quantum_walk_circuit(G)
    qw_creation_time = time.time() - start_time
    
    transpiled_qw = transpile(qw_circuit, simulator)
    print(f"QUANTUM WALK APPROACH:")
    print(f"- Circuit Creation Time: {qw_creation_time:.6f} seconds")
    print(f"- Circuit Depth: {qw_circuit.depth()}")
    print(f"- Total Gates: {sum(qw_circuit.count_ops().values())}")
    print(f"- Gate Distribution: {qw_circuit.count_ops()}")
    print(f"- Number of Qubits: {qw_circuit.num_qubits}")
    
    # Simulate the quantum circuit - updated for Qiskit 1.0
    start_time = time.time()
    job = simulator.run(transpiled_qw, shots=shots)
    result = job.result()
    qw_simulation_time = time.time() - start_time
    
    print(f"- Simulation Time: {qw_simulation_time:.6f} seconds")
    print(f"- Total Time: {qw_creation_time + qw_simulation_time:.6f} seconds")
    
    # Get measurement counts
    counts = result.get_counts()
    print(f"- Top 5 measurement outcomes:")
    sorted_counts = sorted(counts.items(), key=lambda x: x[1], reverse=True)
    for state, count in sorted_counts[:5]:
        print(f"  {state}: {count} shots ({count/shots:.2%})")
    
    # Plot histogram of results
    plt.figure(figsize=(10, 6))
    # Create custom histogram visualization since plot_histogram might have issues
    sorted_counts = sorted(counts.items(), key=lambda x: x[1], reverse=True)
    states = [x[0] for x in sorted_counts[:10]]  # Top 10 states
    probabilities = [x[1]/shots for x in sorted_counts[:10]]  # Convert to probabilities
    
    # Plot as a bar chart
    plt.bar(range(len(states)), probabilities, color='skyblue')
    plt.xticks(range(len(states)), states, rotation=45)
    plt.ylabel('Probability')
    plt.xlabel('Measurement Outcome')
    plt.title("Quantum Walk Measurement Outcomes")
    plt.tight_layout()
    plt.savefig('quantum_walk_results.png')
    plt.show()
    
    print("-"*50)
    
    # QAOA Performance
    start_time = time.time()
    qaoa_circuit = create_simplified_qaoa_circuit(G)
    qaoa_creation_time = time.time() - start_time
    
    transpiled_qaoa = transpile(qaoa_circuit, simulator)
    print(f"QAOA APPROACH:")
    print(f"- Circuit Creation Time: {qaoa_creation_time:.6f} seconds")
    print(f"- Circuit Depth: {qaoa_circuit.depth()}")
    print(f"- Total Gates: {sum(qaoa_circuit.count_ops().values())}")
    print(f"- Gate Distribution: {qaoa_circuit.count_ops()}")
    print(f"- Number of Qubits: {qaoa_circuit.num_qubits}")
    
    # Simulate the quantum circuit - updated for Qiskit 1.0
    start_time = time.time()
    job = simulator.run(transpiled_qaoa, shots=shots)
    result = job.result()
    qaoa_simulation_time = time.time() - start_time
    
    print(f"- Simulation Time: {qaoa_simulation_time:.6f} seconds")
    print(f"- Total Time: {qaoa_creation_time + qaoa_simulation_time:.6f} seconds")
    
    # Get measurement counts
    counts = result.get_counts()
    print(f"- Top 5 measurement outcomes:")
    sorted_counts = sorted(counts.items(), key=lambda x: x[1], reverse=True)
    for state, count in sorted_counts[:5]:
        print(f"  {state}: {count} shots ({count/shots:.2%})")
    
    # Plot histogram of results
    plt.figure(figsize=(10, 6))
    # Create custom histogram visualization since plot_histogram might have issues
    sorted_counts = sorted(counts.items(), key=lambda x: x[1], reverse=True)
    states = [x[0] for x in sorted_counts[:10]]  # Top 10 states
    probabilities = [x[1]/shots for x in sorted_counts[:10]]  # Convert to probabilities
    
    # Plot as a bar chart
    plt.bar(range(len(states)), probabilities, color='lightgreen')
    plt.xticks(range(len(states)), states, rotation=45)
    plt.ylabel('Probability')
    plt.xlabel('Measurement Outcome')
    plt.title("QAOA Measurement Outcomes")
    plt.tight_layout()
    plt.savefig('qaoa_results.png')
    plt.show()
    
    print("="*50)
    print("ASYMPTOTIC COMPLEXITY COMPARISON:")
    print("- Classical Dijkstra: O(E + V log V) time, O(V) space")
    print("- Quantum Walk: O(sqrt(V)) time*, O(log V) space")
    print("- QAOA: Variable time complexity based on problem, O(V) space")
    print("* Theoretical speedup for ideal implementation")
    
    # Summary table
    print("\nSUMMARY METRICS TABLE:")
    print("-"*80)
    print(f"{'Algorithm':<20} {'Runtime (s)':<15} {'Circuit Depth':<15} {'Gates':<10} {'Space':<10}")
    print("-"*80)
    print(f"{'Classical Dijkstra':<20} {classical_time:<15.6f} {'N/A':<15} {G.number_of_nodes() * np.log2(G.number_of_nodes()):<10.1f} {G.number_of_nodes():<10}")
    print(f"{'Quantum Walk':<20} {qw_creation_time + qw_simulation_time:<15.6f} {qw_circuit.depth():<15} {sum(qw_circuit.count_ops().values()):<10} {qw_circuit.num_qubits:<10}")
    print(f"{'QAOA':<20} {qaoa_creation_time + qaoa_simulation_time:<15.6f} {qaoa_circuit.depth():<15} {sum(qaoa_circuit.count_ops().values()):<10} {qaoa_circuit.num_qubits:<10}")
    print("-"*80)
    
    return {
        "classical": {
            "runtime": classical_time,
            "path": path,
            "length": length,
            "operations": G.number_of_nodes() * np.log2(G.number_of_nodes())
        },
        "quantum_walk": {
            "creation_time": qw_creation_time,
            "simulation_time": qw_simulation_time,
            "total_time": qw_creation_time + qw_simulation_time,
            "depth": qw_circuit.depth(),
            "gates": sum(qw_circuit.count_ops().values()),
            "qubits": qw_circuit.num_qubits
        },
        "qaoa": {
            "creation_time": qaoa_creation_time,
            "simulation_time": qaoa_simulation_time,
            "total_time": qaoa_creation_time + qaoa_simulation_time,
            "depth": qaoa_circuit.depth(),
            "gates": sum(qaoa_circuit.count_ops().values()),
            "qubits": qaoa_circuit.num_qubits
        }
    }

# --------------------------------------------------------------------------
# Scaling Analysis Functions
# --------------------------------------------------------------------------

def analyze_algorithm_scaling(max_nodes=25, step=5):
    """Analyze how quantum circuit metrics scale with problem size"""
    nodes = list(range(5, max_nodes+1, step))
    results = {
        "nodes": nodes,
        "classical_ops": [],
        "qw_depth": [],
        "qw_gates": [],
        "qw_qubits": [],
        "qaoa_depth": [],
        "qaoa_gates": [],
        "qaoa_qubits": []
    }
    
    for n in nodes:
        print(f"Analyzing graph with {n} nodes...")
        # Create random graph
        G = nx.gnm_random_graph(n, n*2)
        for u, v in G.edges():
            G[u][v]['weight'] = np.random.randint(1, 10)
        
        # Record classical algorithm complexity
        results["classical_ops"].append(n * np.log2(n))
        
        # Create quantum circuits and record metrics (WITHOUT simulation)
        qw_circuit = create_quantum_walk_circuit(G)
        results["qw_depth"].append(qw_circuit.depth())
        results["qw_gates"].append(sum(qw_circuit.count_ops().values()))
        results["qw_qubits"].append(qw_circuit.num_qubits)
        
        qaoa_circuit = create_simplified_qaoa_circuit(G)
        results["qaoa_depth"].append(qaoa_circuit.depth())
        results["qaoa_gates"].append(sum(qaoa_circuit.count_ops().values()))
        results["qaoa_qubits"].append(qaoa_circuit.num_qubits)
    
    # Plot the scaling trends
    plot_scaling_trends(results)
    
    return results

def plot_scaling_trends(results):
    """Plot and analyze how algorithm complexity scales with problem size"""
    nodes = results["nodes"]
    
    plt.figure(figsize=(15, 12))
    
    # Plot 1: Circuit Depth Scaling
    plt.subplot(2, 2, 1)
    plt.plot(nodes, results["qw_depth"], 'o-', label='Quantum Walk')
    plt.plot(nodes, results["qaoa_depth"], 's-', label='QAOA')
    
    # Fit curves to determine scaling
    def sqrt_curve(x, a, b):
        return a * np.sqrt(x) + b
    
    def log_curve(x, a, b):
        return a * np.log2(x) + b
    
    def linear_curve(x, a, b):
        return a * x + b
    
    # Fit quantum walk depth to different models
    popt_sqrt, _ = curve_fit(sqrt_curve, nodes, results["qw_depth"])
    popt_log, _ = curve_fit(log_curve, nodes, results["qw_depth"])
    popt_linear, _ = curve_fit(linear_curve, nodes, results["qw_depth"])
    
    # Plot fitted curves
    x_fit = np.linspace(min(nodes), max(nodes), 100)
    plt.plot(x_fit, sqrt_curve(x_fit, *popt_sqrt), '--', label=f'Sqrt fit: {popt_sqrt[0]:.2f}*sqrt(n)+{popt_sqrt[1]:.2f}')
    plt.plot(x_fit, log_curve(x_fit, *popt_log), ':', label=f'Log fit: {popt_log[0]:.2f}*log(n)+{popt_log[1]:.2f}')
    plt.plot(x_fit, linear_curve(x_fit, *popt_linear), '-.', label=f'Linear fit: {popt_linear[0]:.2f}*n+{popt_linear[1]:.2f}')
    
    # Evaluate fit quality
    def compute_r2(y_true, y_pred):
        ss_tot = np.sum((y_true - np.mean(y_true))**2)
        ss_res = np.sum((y_true - y_pred)**2)
        return 1 - (ss_res / ss_tot)
    
    r2_sqrt = compute_r2(results["qw_depth"], sqrt_curve(np.array(nodes), *popt_sqrt))
    r2_log = compute_r2(results["qw_depth"], log_curve(np.array(nodes), *popt_log))
    r2_linear = compute_r2(results["qw_depth"], linear_curve(np.array(nodes), *popt_linear))
    
    print(f"R² for sqrt fit: {r2_sqrt:.4f}")
    print(f"R² for log fit: {r2_log:.4f}")
    print(f"R² for linear fit: {r2_linear:.4f}")
    
    plt.title('Circuit Depth Scaling')
    plt.xlabel('Number of Nodes (n)')
    plt.ylabel('Circuit Depth')
    plt.legend()
    plt.grid(True)
    
    # Plot 2: Gate Count Scaling
    plt.subplot(2, 2, 2)
    plt.plot(nodes, results["qw_gates"], 'o-', label='Quantum Walk')
    plt.plot(nodes, results["qaoa_gates"], 's-', label='QAOA')
    plt.plot(nodes, results["classical_ops"], '^-', label='Classical Ops (n log n)')
    plt.title('Gate Count Scaling')
    plt.xlabel('Number of Nodes (n)')
    plt.ylabel('Number of Gates/Operations')
    plt.legend()
    plt.grid(True)
    
    # Plot 3: Qubit Count Scaling (for quantum algorithms)
    plt.subplot(2, 2, 3)
    plt.plot(nodes, results["qw_qubits"], 'o-', label='Quantum Walk')
    plt.plot(nodes, results["qaoa_qubits"], 's-', label='QAOA')
    plt.plot(nodes, nodes, '^--', label='Classical Space (n)')
    
    # Fit log curve to QW qubit count
    popt_qw_qubits, _ = curve_fit(log_curve, nodes, results["qw_qubits"])
    plt.plot(x_fit, log_curve(x_fit, *popt_qw_qubits), '--', label=f'Log fit: {popt_qw_qubits[0]:.2f}*log(n)+{popt_qw_qubits[1]:.2f}')
    
    plt.title('Space Complexity (Qubit Count)')
    plt.xlabel('Number of Nodes (n)')
    plt.ylabel('Number of Qubits/Memory Units')
    plt.legend()
    plt.grid(True)
    
    # Plot 4: Log-Log Plot for Scaling Analysis
    plt.subplot(2, 2, 4)
    plt.loglog(nodes, results["qw_depth"], 'o-', label='QW Depth')
    plt.loglog(nodes, results["classical_ops"], '^-', label='Classical Ops')
    
    # Add reference lines for different complexity classes
    ref_sqrt = [5 * np.sqrt(n) for n in nodes]
    ref_n = [2 * n for n in nodes]
    ref_nlogn = [n * np.log2(n) / 2 for n in nodes]
    
    plt.loglog(nodes, ref_sqrt, '--', label='O(sqrt(n))')
    plt.loglog(nodes, ref_n, ':', label='O(n)')
    plt.loglog(nodes, ref_nlogn, '-.', label='O(n log n)')
    
    plt.title('Log-Log Scaling Analysis')
    plt.xlabel('Number of Nodes (n)')
    plt.ylabel('Operations/Depth')
    plt.legend()
    plt.grid(True)
    
    plt.tight_layout()
    plt.savefig('quantum_scaling_analysis.png')
    plt.show()
    
    # Calculate theoretical scaling verification
    print("\nTheoretical Scaling Verification:")
    print(f"Classical operations (V log V): From {results['classical_ops'][0]:.1f} to {results['classical_ops'][-1]:.1f}")
    print(f"   - Ratio of largest/smallest: {results['classical_ops'][-1] / results['classical_ops'][0]:.2f}x")
    print(f"   - Expected ratio: {(nodes[-1] * np.log2(nodes[-1])) / (nodes[0] * np.log2(nodes[0])):.2f}x")
    
    print(f"\nQuantum Walk depth: From {results['qw_depth'][0]} to {results['qw_depth'][-1]}")
    print(f"   - Ratio of largest/smallest: {results['qw_depth'][-1] / results['qw_depth'][0]:.2f}x")
    print(f"   - Expected ratio for sqrt(n): {np.sqrt(nodes[-1]) / np.sqrt(nodes[0]):.2f}x")
    
    print(f"\nQuantum Walk qubits: From {results['qw_qubits'][0]} to {results['qw_qubits'][-1]}")
    print(f"   - Ratio of largest/smallest: {results['qw_qubits'][-1] / results['qw_qubits'][0]:.2f}x")
    print(f"   - Expected ratio for log(n): {np.log2(nodes[-1]) / np.log2(nodes[0]):.2f}x")

def extrapolate_performance(measured_results, target_size=1000):
    """Project algorithm performance to larger problem sizes"""
    nodes = measured_results["nodes"]
    
    # Fit models to measured data
    def sqrt_model(x, a, b):
        return a * np.sqrt(x) + b
    
    def nlogn_model(x, a, b):
        return a * x * np.log2(x) + b
    
    # Fit quantum walk depth
    popt_qw, _ = curve_fit(sqrt_model, nodes, measured_results["qw_depth"])
    
    # Fit classical operations
    popt_classical, _ = curve_fit(nlogn_model, nodes, measured_results["classical_ops"])
    
    # Extrapolate to larger sizes
    large_sizes = [50, 100, 200, 500, 1000]
    extrapolated = {
        "sizes": large_sizes,
        "qw_depth_projected": [sqrt_model(n, *popt_qw) for n in large_sizes],
        "classical_ops_projected": [nlogn_model(n, *popt_classical) for n in large_sizes]
    }
    
    # Plot extrapolation
    plt.figure(figsize=(12, 8))
    
    # Plot 1: Linear scale
    plt.subplot(2, 1, 1)
    plt.plot(nodes, measured_results["qw_depth"], 'o-', label='Measured QW Depth')
    plt.plot(nodes, measured_results["classical_ops"], 's-', label='Measured Classical Ops')
    plt.plot(extrapolated["sizes"], extrapolated["qw_depth_projected"], 'o--', label='Projected QW Depth')
    plt.plot(extrapolated["sizes"], extrapolated["classical_ops_projected"], 's--', label='Projected Classical Ops')
    
    plt.title('Algorithm Performance Extrapolation')
    plt.xlabel('Number of Nodes (n)')
    plt.ylabel('Operations/Depth')
    plt.legend()
    plt.grid(True)
    
    # Plot 2: Log scale
    plt.subplot(2, 1, 2)
    plt.loglog(nodes, measured_results["qw_depth"], 'o-', label='Measured QW Depth')
    plt.loglog(nodes, measured_results["classical_ops"], 's-', label='Measured Classical Ops')
    plt.loglog(extrapolated["sizes"], extrapolated["qw_depth_projected"], 'o--', label='Projected QW Depth')
    plt.loglog(extrapolated["sizes"], extrapolated["classical_ops_projected"], 's--', label='Projected Classical Ops')
    
    plt.title('Algorithm Performance Extrapolation (Log Scale)')
    plt.xlabel('Number of Nodes (n)')
    plt.ylabel('Operations/Depth (log scale)')
    plt.legend()
    plt.grid(True)
    
    plt.tight_layout()
    plt.savefig('quantum_advantage_extrapolation.png')
    plt.show()
    
    # Calculate efficiency metrics
    print(f"Extrapolation to n={target_size} nodes:")
    print(f"- Projected classical operations: {nlogn_model(target_size, *popt_classical):.1f}")
    print(f"- Projected quantum circuit depth: {sqrt_model(target_size, *popt_qw):.1f}")
    print(f"- Efficiency ratio: {nlogn_model(target_size, *popt_classical)/sqrt_model(target_size, *popt_qw):.1f}x")
    
    # Find crossover point where quantum becomes more efficient
    from scipy.optimize import fsolve
    
    def crossover_equation(x):
        return sqrt_model(x, *popt_qw) - nlogn_model(x, *popt_classical)
    
    try:
        crossover_point = fsolve(crossover_equation, [100])[0]
        if crossover_point > 0 and crossover_point < 10000:
            print(f"- Projected crossover point: ~{int(crossover_point)} nodes")
        else:
            print("- No realistic crossover point found in reasonable range")
    except:
        print("- Could not determine crossover point")

def estimate_success_probability(G):
    """Estimate success probability of quantum walk for a given graph"""
    # This is a heuristic based on quantum walk literature
    n = G.number_of_nodes()
    # Success probability scales approximately as 1/sqrt(n) for simple quantum walks
    return min(1.0, 2.0/np.sqrt(n))

def adjusted_quantum_complexity(nodes):
    """Calculate complexity accounting for success probability"""
    complexity_data = []
    
    for n in nodes:
        # Quantum query complexity is O(sqrt(n))
        base_complexity = np.sqrt(n)
        
        # But we need O(1/success_prob) repetitions
        success_prob = min(1.0, 2.0/np.sqrt(n))
        repetitions = 1.0 / success_prob
        
        # Total complexity with repetitions
        adjusted_complexity = base_complexity * repetitions
        
        complexity_data.append({
            "nodes": n,
            "base_complexity": base_complexity,
            "success_probability": success_prob,
            "repetitions_needed": repetitions,
            "adjusted_complexity": adjusted_complexity
        })
    
    return complexity_data

def plot_success_probability_impact(max_nodes=100):
    """Show how success probability affects quantum advantage"""
    nodes = list(range(5, max_nodes+1, 5))
    complexity_data = adjusted_quantum_complexity(nodes)
    
    # Extract data for plotting
    base_complexity = [d["base_complexity"] for d in complexity_data]
    adjusted_complexity = [d["adjusted_complexity"] for d in complexity_data]
    classical_complexity = [n * np.log2(n) for n in nodes]
    
    plt.figure(figsize=(12, 8))
    
    # Plot 1: Complexity comparison
    plt.subplot(2, 1, 1)
    plt.plot(nodes, base_complexity, 'o-', label='QW Ideal (sqrt(n))')
    plt.plot(nodes, adjusted_complexity, 's-', label='QW with Success Prob (sqrt(n)/p_success)')
    plt.plot(nodes, classical_complexity, '^-', label='Classical (n log n)')
    
    plt.title('Quantum Walk Complexity with Success Probability')
    plt.xlabel('Number of Nodes (n)')
    plt.ylabel('Complexity')
    plt.legend()
    plt.grid(True)
    
    # Plot 2: Success probability
    plt.subplot(2, 1, 2)
    success_probs = [d["success_probability"] for d in complexity_data]
    repetitions = [d["repetitions_needed"] for d in complexity_data]
    
    plt.plot(nodes, success_probs, 'o-', label='Success Probability')
    plt.plot(nodes, [1/p for p in success_probs], 's-', label='Required Repetitions')
    
    plt.title('Quantum Walk Success Probability vs Problem Size')
    plt.xlabel('Number of Nodes (n)')
    plt.ylabel('Probability / Repetitions')
    plt.legend()
    plt.grid(True)
    
    plt.tight_layout()
    plt.savefig('quantum_success_probability_impact.png')
    plt.show()
    
    # Calculate and print metrics
    big_n = max_nodes
    idx = nodes.index(big_n)
    
    print(f"For n={big_n} nodes:")
    print(f"- Ideal quantum complexity: {base_complexity[idx]:.2f}")
    print(f"- Success probability: {success_probs[idx]:.4f}")
    print(f"- Required repetitions: {repetitions[idx]:.2f}")
    print(f"- Adjusted quantum complexity: {adjusted_complexity[idx]:.2f}")
    print(f"- Classical complexity: {classical_complexity[idx]:.2f}")
    print(f"- Advantage ratio: {classical_complexity[idx]/adjusted_complexity[idx]:.2f}x")

# --------------------------------------------------------------------------
# Run the analysis
# --------------------------------------------------------------------------

# 1. First, run a detailed analysis on the example graph
print("Running detailed analysis for the example graph...")
G = create_graph()

# Find the classical shortest path first to highlight it
source, target = 0, 4
path, length = classical_shortest_path(G, source, target)
print(f"Classical shortest path from {source} to {target}: {path}")
print(f"Path length: {length}")

# Visualize the graph with the shortest path highlighted
pos = nx.spring_layout(G, seed=42)  # Fixed seed for reproducibility
plt.figure(figsize=(10, 6))
nx.draw(G, pos, with_labels=True, node_color='lightblue', node_size=500)

# Highlight the shortest path in red
path_edges = [(path[i], path[i+1]) for i in range(len(path)-1)]
nx.draw_networkx_edges(G, pos, edgelist=path_edges, width=3, edge_color='red')

edge_labels = nx.get_edge_attributes(G, 'weight')
nx.draw_networkx_edge_labels(G, pos, edge_labels=edge_labels)
plt.title(f"Graph with Shortest Path from {source} to {target} Highlighted")
plt.savefig('example_graph_with_path.png')
plt.show()

# Run the detailed analysis
detailed_metrics = simulate_with_detailed_metrics(G, 0, 4)

# 2. Next, analyze how algorithm metrics scale with graph size
print("\nAnalyzing scaling behavior with graph size...")
scaling_results = analyze_algorithm_scaling(max_nodes=25, step=5)

# 3. Extrapolate performance to larger problem sizes
print("\nExtrapolating performance to larger problem sizes...")
extrapolate_performance(scaling_results, target_size=1000)

# 4. Analyze the impact of success probability on quantum advantage
print("\nAnalyzing the impact of success probability on quantum advantage...")
plot_success_probability_impact(max_nodes=100)

print("Analysis complete!")
